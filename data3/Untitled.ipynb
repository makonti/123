{
 "cells": [
  {
   "cell_type": "code",
   "execution_count": 2,
   "id": "4c66cd3d-489e-4bfc-8860-1bba6726aa78",
   "metadata": {},
   "outputs": [
    {
     "name": "stdout",
     "output_type": "stream",
     "text": [
      "3060\n"
     ]
    }
   ],
   "source": [
    "def business(x):\n",
    "    return x*18\n",
    "\n",
    "business_result=business(170)\n",
    "print(business_result)"
   ]
  },
  {
   "cell_type": "code",
   "execution_count": 3,
   "id": "be868513-8174-4cc8-af70-f976a45b6bcb",
   "metadata": {},
   "outputs": [
    {
     "name": "stdin",
     "output_type": "stream",
     "text": [
      " 170\n"
     ]
    },
    {
     "name": "stdout",
     "output_type": "stream",
     "text": [
      "3060\n"
     ]
    }
   ],
   "source": [
    "def  business(x):\n",
    "    return x*18\n",
    "y = int(input())\n",
    "business_result = business(y)\n",
    "print(business_result)"
   ]
  },
  {
   "cell_type": "code",
   "execution_count": 4,
   "id": "d3114e07-285a-4ed9-a07a-df2de590ee7a",
   "metadata": {},
   "outputs": [
    {
     "name": "stdout",
     "output_type": "stream",
     "text": [
      "3060\n"
     ]
    }
   ],
   "source": [
    "name = lambda x:x*18\n",
    "print(name(170))"
   ]
  },
  {
   "cell_type": "code",
   "execution_count": 7,
   "id": "38e624ac-33e2-4370-9036-8d1305a355b1",
   "metadata": {},
   "outputs": [
    {
     "name": "stdout",
     "output_type": "stream",
     "text": [
      "Доброе утро!Успехов тебе сегодня!В новый день с новыми силами!\n"
     ]
    }
   ],
   "source": [
    "greeting=\"Доброе утро!Успехов тебе сегодня!\"\n",
    "def mailing():\n",
    "    greet=greeting+\"В новый день с новыми силами!\"\n",
    "    print(greet)\n",
    "mailing()"
   ]
  },
  {
   "cell_type": "code",
   "execution_count": 8,
   "id": "b84f8061-dd68-49b4-9242-5e2812b55af1",
   "metadata": {},
   "outputs": [
    {
     "name": "stdout",
     "output_type": "stream",
     "text": [
      "Доброе утро! Успехов тебе сегодня! В новый день с новыми силами!\n"
     ]
    }
   ],
   "source": [
    "greeting = 'Доброе утро! Успехов тебе сегодня!'\n",
    "def mailing():\n",
    "    global greeting\n",
    "    greeting=greeting+\" В новый день с новыми силами!\"\n",
    "    print(greeting)\n",
    "mailing()"
   ]
  },
  {
   "cell_type": "code",
   "execution_count": 11,
   "id": "c940610d-3ad6-4a50-8c08-7ca9f79af417",
   "metadata": {},
   "outputs": [
    {
     "name": "stdout",
     "output_type": "stream",
     "text": [
      "9.5\n"
     ]
    }
   ],
   "source": [
    "def get_median(numbers):\n",
    "    numbers.sort()\n",
    "    n = len(numbers)\n",
    "    if n % 2 == 1:\n",
    "        return numbers[n // 2]\n",
    "    else:\n",
    "        return (numbers[n // 2 - 1] + numbers[n // 2]) / 2\n",
    "\n",
    "numbers = [ 10, 6, 2, 9, 21, 11]\n",
    "print(get_median(numbers))"
   ]
  },
  {
   "cell_type": "code",
   "execution_count": 17,
   "id": "752ab559-2e4c-4c4a-9da6-ab5e291e5017",
   "metadata": {
    "scrolled": true
   },
   "outputs": [
    {
     "name": "stdout",
     "output_type": "stream",
     "text": [
      "Құрметті Киану Ривз! Біраз демалыш, қыс қаласында жазды бірге қарсы алатын уақыт келді! Бір аптадан кейін сол жерде кездесеміз.\n",
      "Құрметті Джим Керри! Біраз демалыш, қыс қаласында жазды бірге қарсы алатын уақыт келді! Бір аптадан кейін сол жерде кездесеміз.\n",
      "Құрметті Сэмюэл Л. Джексон! Біраз демалыш, қыс қаласында жазды бірге қарсы алатын уақыт келді! Бір аптадан кейін сол жерде кездесеміз.\n",
      "Құрметті Том Круз! Біраз демалыш, қыс қаласында жазды бірге қарсы алатын уақыт келді! Бір аптадан кейін сол жерде кездесеміз.\n",
      "Құрметті Бред Пит! Біраз демалыш, қыс қаласында жазды бірге қарсы алатын уақыт келді! Бір аптадан кейін сол жерде кездесеміз.\n"
     ]
    }
   ],
   "source": [
    "friend_base = ['Киану Ривз', 'Джим Керри', 'Сэмюэл Л. Джексон', 'Том Круз', 'Бред Пит']\n",
    "\n",
    "\n",
    "for friend in friend_base:\n",
    "    print(f\"Құрметті {friend}! Біраз демалыш, қыс қаласында жазды бірге қарсы алатын уақыт келді! Бір аптадан кейін сол жерде кездесеміз.\")"
   ]
  },
  {
   "cell_type": "code",
   "execution_count": 21,
   "id": "38c0d07d-8092-41e2-9669-2148d5577e7b",
   "metadata": {},
   "outputs": [
    {
     "name": "stdout",
     "output_type": "stream",
     "text": [
      "зеленый\n"
     ]
    }
   ],
   "source": [
    "class Auto:\n",
    "    def __init__(self):\n",
    "      self.color = \"зеленый\"\n",
    "      self.max_speed=200\n",
    "my_auto=Auto()\n",
    "print(my_auto.color)\n",
    " "
   ]
  },
  {
   "cell_type": "code",
   "execution_count": 23,
   "id": "c864ac62-cb7c-44eb-a9ed-66c6a8915810",
   "metadata": {},
   "outputs": [
    {
     "name": "stdin",
     "output_type": "stream",
     "text": [
      "Массив элементтерін бос орын арқылы енгізіңіз:  9 5 3 2\n"
     ]
    },
    {
     "name": "stdout",
     "output_type": "stream",
     "text": [
      "Барлық элементтердің квадраттарының қосындысы: 119\n"
     ]
    }
   ],
   "source": [
    "def mass_v(arr):\n",
    "    return sum(x**2 for x in arr)\n",
    "\n",
    "user_input = input(\"Массив элементтерін бос орын арқылы енгізіңіз: \")\n",
    "\n",
    "numbers = list(map(int, user_input.split()))\n",
    "\n",
    "result = mass_v(numbers)\n",
    "\n",
    "print(f\"Барлық элементтердің квадраттарының қосындысы: {result}\")"
   ]
  },
  {
   "cell_type": "code",
   "execution_count": null,
   "id": "0b2e784f-0930-4685-8bd4-35987d2e3c58",
   "metadata": {},
   "outputs": [],
   "source": []
  }
 ],
 "metadata": {
  "kernelspec": {
   "display_name": "Python 3 (ipykernel)",
   "language": "python",
   "name": "python3"
  },
  "language_info": {
   "codemirror_mode": {
    "name": "ipython",
    "version": 3
   },
   "file_extension": ".py",
   "mimetype": "text/x-python",
   "name": "python",
   "nbconvert_exporter": "python",
   "pygments_lexer": "ipython3",
   "version": "3.13.0"
  }
 },
 "nbformat": 4,
 "nbformat_minor": 5
}
