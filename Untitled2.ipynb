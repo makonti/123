{
 "cells": [
  {
   "cell_type": "code",
   "execution_count": 2,
   "id": "cd9b5ec3-c3cd-4ae7-8054-c82f45017585",
   "metadata": {},
   "outputs": [
    {
     "name": "stdout",
     "output_type": "stream",
     "text": [
      "20\n"
     ]
    }
   ],
   "source": [
    "volume=1000\n",
    "water=5\n",
    "steps=0\n",
    "while volume>=0:\n",
    "    volume-=water\n",
    "    water+=5\n",
    "    steps+=1\n",
    "print(steps)"
   ]
  },
  {
   "cell_type": "code",
   "execution_count": null,
   "id": "93f2bba6-cdb5-45c6-8317-3a3b8a41a976",
   "metadata": {},
   "outputs": [],
   "source": [
    "c=500\n",
    "a=80\n",
    "s=0\n",
    "while c>0:\n",
    "    c -= a\n",
    "    s +=1\n",
    "print(s)"
   ]
  },
  {
   "cell_type": "code",
   "execution_count": 1,
   "id": "239c46c6-43c1-48c6-827b-76533e50caeb",
   "metadata": {},
   "outputs": [
    {
     "name": "stdout",
     "output_type": "stream",
     "text": [
      "0 П\n",
      "1 р\n",
      "2 и\n",
      "3 в\n",
      "4 е\n",
      "5 т\n",
      "6 !\n"
     ]
    }
   ],
   "source": [
    "for i, letter in enumerate('Привет!'):\n",
    "    print(i,letter)"
   ]
  },
  {
   "cell_type": "code",
   "execution_count": 3,
   "id": "31885b5a-a16e-4285-ab28-78b6f7f47535",
   "metadata": {},
   "outputs": [
    {
     "name": "stdout",
     "output_type": "stream",
     "text": [
      "1 1 1\n",
      "2 4 8\n",
      "3 9 27\n",
      "4 16 64\n",
      "5 25 125\n",
      "6 36 216\n",
      "7 49 343\n",
      "8 64 512\n",
      "9 81 729\n",
      "10 100 1000\n"
     ]
    }
   ],
   "source": [
    "for i in range(1,11):\n",
    "    print(i, i**2, i**3)"
   ]
  },
  {
   "cell_type": "code",
   "execution_count": 6,
   "id": "7b9237ca-f5e1-4729-b10a-cc73bffada37",
   "metadata": {},
   "outputs": [
    {
     "name": "stdout",
     "output_type": "stream",
     "text": [
      "390 год невисокосный\n",
      "391 год невисокосный\n",
      "392 год високосный\n",
      "393 год невисокосный\n",
      "394 год невисокосный\n",
      "395 год невисокосный\n",
      "396 год високосный\n",
      "397 год невисокосный\n",
      "398 год невисокосный\n",
      "399 год невисокосный\n",
      "400 год високосный\n"
     ]
    }
   ],
   "source": [
    "for year in range(390,401):\n",
    "    if (year%4==0 and year%100!=0) or (year%400==0):\n",
    "        print(year, 'год високосный')\n",
    "    else:\n",
    "        print(year, 'год невисокосный')"
   ]
  },
  {
   "cell_type": "code",
   "execution_count": null,
   "id": "722f01c8-7da4-4656-8ff5-b1aff46671ed",
   "metadata": {},
   "outputs": [],
   "source": []
  }
 ],
 "metadata": {
  "kernelspec": {
   "display_name": "Python 3 (ipykernel)",
   "language": "python",
   "name": "python3"
  },
  "language_info": {
   "codemirror_mode": {
    "name": "ipython",
    "version": 3
   },
   "file_extension": ".py",
   "mimetype": "text/x-python",
   "name": "python",
   "nbconvert_exporter": "python",
   "pygments_lexer": "ipython3",
   "version": "3.13.0"
  }
 },
 "nbformat": 4,
 "nbformat_minor": 5
}
