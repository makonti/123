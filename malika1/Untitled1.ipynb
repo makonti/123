{
 "cells": [
  {
   "cell_type": "code",
   "execution_count": 1,
   "id": "cfc6db61-9d02-40c9-af41-194c05a0ff8e",
   "metadata": {},
   "outputs": [
    {
     "data": {
      "text/html": [
       "<div>\n",
       "<style scoped>\n",
       "    .dataframe tbody tr th:only-of-type {\n",
       "        vertical-align: middle;\n",
       "    }\n",
       "\n",
       "    .dataframe tbody tr th {\n",
       "        vertical-align: top;\n",
       "    }\n",
       "\n",
       "    .dataframe thead th {\n",
       "        text-align: right;\n",
       "    }\n",
       "</style>\n",
       "<table border=\"1\" class=\"dataframe\">\n",
       "  <thead>\n",
       "    <tr style=\"text-align: right;\">\n",
       "      <th></th>\n",
       "      <th>Unnamed: 0</th>\n",
       "      <th>Name</th>\n",
       "      <th>Age</th>\n",
       "      <th>Nationality</th>\n",
       "      <th>Club</th>\n",
       "      <th>Value</th>\n",
       "      <th>Wage</th>\n",
       "      <th>Position</th>\n",
       "      <th>Crossing</th>\n",
       "      <th>Finishing</th>\n",
       "      <th>...</th>\n",
       "      <th>Penalties</th>\n",
       "      <th>Composure</th>\n",
       "      <th>Marking</th>\n",
       "      <th>StandingTackle</th>\n",
       "      <th>SlidingTackle</th>\n",
       "      <th>GKDiving</th>\n",
       "      <th>GKHandling</th>\n",
       "      <th>GKKicking</th>\n",
       "      <th>GKPositioning</th>\n",
       "      <th>GKReflexes</th>\n",
       "    </tr>\n",
       "  </thead>\n",
       "  <tbody>\n",
       "    <tr>\n",
       "      <th>0</th>\n",
       "      <td>0</td>\n",
       "      <td>L. Messi</td>\n",
       "      <td>31</td>\n",
       "      <td>Argentina</td>\n",
       "      <td>FC Barcelona</td>\n",
       "      <td>110500000</td>\n",
       "      <td>565000</td>\n",
       "      <td>RF</td>\n",
       "      <td>84</td>\n",
       "      <td>95</td>\n",
       "      <td>...</td>\n",
       "      <td>75</td>\n",
       "      <td>96</td>\n",
       "      <td>33</td>\n",
       "      <td>28</td>\n",
       "      <td>26</td>\n",
       "      <td>6</td>\n",
       "      <td>11</td>\n",
       "      <td>15</td>\n",
       "      <td>14</td>\n",
       "      <td>8</td>\n",
       "    </tr>\n",
       "    <tr>\n",
       "      <th>1</th>\n",
       "      <td>1</td>\n",
       "      <td>Cristiano Ronaldo</td>\n",
       "      <td>33</td>\n",
       "      <td>Portugal</td>\n",
       "      <td>Juventus</td>\n",
       "      <td>77000000</td>\n",
       "      <td>405000</td>\n",
       "      <td>ST</td>\n",
       "      <td>84</td>\n",
       "      <td>94</td>\n",
       "      <td>...</td>\n",
       "      <td>85</td>\n",
       "      <td>95</td>\n",
       "      <td>28</td>\n",
       "      <td>31</td>\n",
       "      <td>23</td>\n",
       "      <td>7</td>\n",
       "      <td>11</td>\n",
       "      <td>15</td>\n",
       "      <td>14</td>\n",
       "      <td>11</td>\n",
       "    </tr>\n",
       "    <tr>\n",
       "      <th>2</th>\n",
       "      <td>2</td>\n",
       "      <td>Neymar Jr</td>\n",
       "      <td>26</td>\n",
       "      <td>Brazil</td>\n",
       "      <td>Paris Saint-Germain</td>\n",
       "      <td>118500000</td>\n",
       "      <td>290000</td>\n",
       "      <td>LW</td>\n",
       "      <td>79</td>\n",
       "      <td>87</td>\n",
       "      <td>...</td>\n",
       "      <td>81</td>\n",
       "      <td>94</td>\n",
       "      <td>27</td>\n",
       "      <td>24</td>\n",
       "      <td>33</td>\n",
       "      <td>9</td>\n",
       "      <td>9</td>\n",
       "      <td>15</td>\n",
       "      <td>15</td>\n",
       "      <td>11</td>\n",
       "    </tr>\n",
       "    <tr>\n",
       "      <th>3</th>\n",
       "      <td>3</td>\n",
       "      <td>De Gea</td>\n",
       "      <td>27</td>\n",
       "      <td>Spain</td>\n",
       "      <td>Manchester United</td>\n",
       "      <td>72000000</td>\n",
       "      <td>260000</td>\n",
       "      <td>GK</td>\n",
       "      <td>17</td>\n",
       "      <td>13</td>\n",
       "      <td>...</td>\n",
       "      <td>40</td>\n",
       "      <td>68</td>\n",
       "      <td>15</td>\n",
       "      <td>21</td>\n",
       "      <td>13</td>\n",
       "      <td>90</td>\n",
       "      <td>85</td>\n",
       "      <td>87</td>\n",
       "      <td>88</td>\n",
       "      <td>94</td>\n",
       "    </tr>\n",
       "    <tr>\n",
       "      <th>4</th>\n",
       "      <td>4</td>\n",
       "      <td>K. De Bruyne</td>\n",
       "      <td>27</td>\n",
       "      <td>Belgium</td>\n",
       "      <td>Manchester City</td>\n",
       "      <td>102000000</td>\n",
       "      <td>355000</td>\n",
       "      <td>RCM</td>\n",
       "      <td>93</td>\n",
       "      <td>82</td>\n",
       "      <td>...</td>\n",
       "      <td>79</td>\n",
       "      <td>88</td>\n",
       "      <td>68</td>\n",
       "      <td>58</td>\n",
       "      <td>51</td>\n",
       "      <td>15</td>\n",
       "      <td>13</td>\n",
       "      <td>5</td>\n",
       "      <td>10</td>\n",
       "      <td>13</td>\n",
       "    </tr>\n",
       "  </tbody>\n",
       "</table>\n",
       "<p>5 rows × 42 columns</p>\n",
       "</div>"
      ],
      "text/plain": [
       "   Unnamed: 0               Name  Age Nationality                 Club  \\\n",
       "0           0           L. Messi   31   Argentina         FC Barcelona   \n",
       "1           1  Cristiano Ronaldo   33    Portugal             Juventus   \n",
       "2           2          Neymar Jr   26      Brazil  Paris Saint-Germain   \n",
       "3           3             De Gea   27       Spain    Manchester United   \n",
       "4           4       K. De Bruyne   27     Belgium      Manchester City   \n",
       "\n",
       "       Value    Wage Position  Crossing  Finishing  ...  Penalties  Composure  \\\n",
       "0  110500000  565000       RF        84         95  ...         75         96   \n",
       "1   77000000  405000       ST        84         94  ...         85         95   \n",
       "2  118500000  290000       LW        79         87  ...         81         94   \n",
       "3   72000000  260000       GK        17         13  ...         40         68   \n",
       "4  102000000  355000      RCM        93         82  ...         79         88   \n",
       "\n",
       "   Marking  StandingTackle  SlidingTackle  GKDiving  GKHandling  GKKicking  \\\n",
       "0       33              28             26         6          11         15   \n",
       "1       28              31             23         7          11         15   \n",
       "2       27              24             33         9           9         15   \n",
       "3       15              21             13        90          85         87   \n",
       "4       68              58             51        15          13          5   \n",
       "\n",
       "   GKPositioning  GKReflexes  \n",
       "0             14           8  \n",
       "1             14          11  \n",
       "2             15          11  \n",
       "3             88          94  \n",
       "4             10          13  \n",
       "\n",
       "[5 rows x 42 columns]"
      ]
     },
     "metadata": {},
     "output_type": "display_data"
    }
   ],
   "source": [
    "import pandas as pd\n",
    "df=pd.read_csv('football.csv')\n",
    "display(df.head())"
   ]
  },
  {
   "cell_type": "code",
   "execution_count": 2,
   "id": "34b7e568-3c56-471e-a201-92c07a08e994",
   "metadata": {},
   "outputs": [
    {
     "data": {
      "text/plain": [
       "Nationality\n",
       "England        1368\n",
       "Germany         919\n",
       "Spain           671\n",
       "France          614\n",
       "Argentina       574\n",
       "               ... \n",
       "Malta             1\n",
       "South Sudan       1\n",
       "Philippines       1\n",
       "Indonesia         1\n",
       "Botswana          1\n",
       "Name: count, Length: 156, dtype: int64"
      ]
     },
     "execution_count": 2,
     "metadata": {},
     "output_type": "execute_result"
    }
   ],
   "source": [
    "count=df['Nationality'].value_counts()\n",
    "count"
   ]
  },
  {
   "cell_type": "code",
   "execution_count": 4,
   "id": "a8b02984-e4b5-4a99-b899-c0b20c551a39",
   "metadata": {},
   "outputs": [
    {
     "data": {
      "text/plain": [
       "Nationality\n",
       "England        0.106071\n",
       "Germany        0.071257\n",
       "Spain          0.052028\n",
       "France         0.047608\n",
       "Argentina      0.044506\n",
       "                 ...   \n",
       "Malta          0.000078\n",
       "South Sudan    0.000078\n",
       "Philippines    0.000078\n",
       "Indonesia      0.000078\n",
       "Botswana       0.000078\n",
       "Name: proportion, Length: 156, dtype: float64"
      ]
     },
     "execution_count": 4,
     "metadata": {},
     "output_type": "execute_result"
    }
   ],
   "source": [
    "count=df['Nationality'].value_counts(normalize=True)\n",
    "count"
   ]
  },
  {
   "cell_type": "code",
   "execution_count": 7,
   "id": "bcfbed56-3313-498d-9934-2780ad23faa1",
   "metadata": {},
   "outputs": [
    {
     "data": {
      "text/plain": [
       "(435.999, 142000.0]     12818\n",
       "(142000.0, 283000.0]       61\n",
       "(283000.0, 424000.0]       16\n",
       "(424000.0, 565000.0]        2\n",
       "Name: count, dtype: int64"
      ]
     },
     "execution_count": 7,
     "metadata": {},
     "output_type": "execute_result"
    }
   ],
   "source": [
    "count=df['Wage'].value_counts(bins=4)\n",
    "count"
   ]
  },
  {
   "cell_type": "code",
   "execution_count": 8,
   "id": "9dfecc97-1a57-453a-88a8-6fd7b68234a1",
   "metadata": {},
   "outputs": [
    {
     "data": {
      "text/plain": [
       "array(['Argentina', 'Portugal', 'Brazil', 'Spain', 'Belgium', 'Croatia',\n",
       "       'Uruguay', 'Slovenia', 'Poland', 'Germany', 'France', 'England',\n",
       "       'Italy', 'Egypt', 'Colombia', 'Denmark', 'Gabon', 'Wales',\n",
       "       'Senegal', 'Costa Rica', 'Slovakia', 'Netherlands',\n",
       "       'Bosnia Herzegovina', 'Morocco', 'Serbia', 'Algeria', 'Austria',\n",
       "       'Greece', 'Chile', 'Sweden', 'Korea Republic', 'Finland', 'Guinea',\n",
       "       'Montenegro', 'Switzerland', 'Norway', 'DR Congo', 'Ukraine',\n",
       "       'Mexico', 'Czech Republic', 'Ivory Coast', 'Albania', 'Turkey',\n",
       "       'Ghana', 'Ecuador', 'Mali', 'Nigeria', 'Dominican Republic',\n",
       "       'Japan', 'Cameroon', 'Republic of Ireland', 'Romania',\n",
       "       'United States', 'Russia', 'Hungary', 'Iceland', 'Zimbabwe',\n",
       "       'Togo', 'Angola', 'Burkina Faso', 'Peru', 'Scotland', 'Venezuela',\n",
       "       'Estonia', 'Tunisia', 'Israel', 'Equatorial Guinea', 'New Zealand',\n",
       "       'FYR Macedonia', 'Paraguay', 'China PR', 'Kosovo', 'Tanzania',\n",
       "       'Iran', 'Uzbekistan', 'South Africa', 'Australia', 'Congo',\n",
       "       'Jamaica', 'Mozambique', 'Cape Verde', 'Northern Ireland', 'Syria',\n",
       "       'Cyprus', 'Moldova', 'Canada', 'Trinidad & Tobago', 'Bulgaria',\n",
       "       'Georgia', 'Saudi Arabia', 'Armenia', 'Guinea Bissau', 'Haiti',\n",
       "       'Comoros', 'Eritrea', 'Oman', 'Iraq', 'Latvia', 'Panama',\n",
       "       'Bolivia', 'Madagascar', 'Belarus', 'Honduras', 'Thailand',\n",
       "       'Mauritius', 'Gambia', 'Guatemala', 'Central African Rep.',\n",
       "       'Zambia', 'Curacao', 'Niger', 'Mauritania', 'Suriname', 'Benin',\n",
       "       'Luxembourg', 'Kenya', 'Montserrat', 'Namibia', 'Azerbaijan',\n",
       "       'Guam', 'Libya', 'Faroe Islands', 'Nicaragua', 'Sierra Leone',\n",
       "       'Kazakhstan', 'Lithuania', 'Barbados', 'Lebanon', 'Liechtenstein',\n",
       "       'Palestine', 'Guyana', 'Korea DPR', 'El Salvador', 'Cuba', 'Sudan',\n",
       "       'Burundi', 'St Lucia', 'Ethiopia', 'Uganda', 'Puerto Rico',\n",
       "       'Grenada', 'Antigua & Barbuda', 'Jordan', 'Rwanda', 'Bermuda',\n",
       "       'Qatar', 'Afghanistan', 'Hong Kong', 'Andorra', 'Malta', 'Belize',\n",
       "       'South Sudan', 'St Kitts Nevis', 'Philippines', 'Indonesia',\n",
       "       'Botswana'], dtype=object)"
      ]
     },
     "execution_count": 8,
     "metadata": {},
     "output_type": "execute_result"
    }
   ],
   "source": [
    "c=df['Nationality'].unique()\n",
    "c"
   ]
  },
  {
   "cell_type": "code",
   "execution_count": 13,
   "id": "807772cc-8562-4828-9627-972daa5575bc",
   "metadata": {},
   "outputs": [
    {
     "data": {
      "text/html": [
       "<div>\n",
       "<style scoped>\n",
       "    .dataframe tbody tr th:only-of-type {\n",
       "        vertical-align: middle;\n",
       "    }\n",
       "\n",
       "    .dataframe tbody tr th {\n",
       "        vertical-align: top;\n",
       "    }\n",
       "\n",
       "    .dataframe thead tr th {\n",
       "        text-align: left;\n",
       "    }\n",
       "\n",
       "    .dataframe thead tr:last-of-type th {\n",
       "        text-align: right;\n",
       "    }\n",
       "</style>\n",
       "<table border=\"1\" class=\"dataframe\">\n",
       "  <thead>\n",
       "    <tr>\n",
       "      <th></th>\n",
       "      <th colspan=\"4\" halign=\"left\">Wage</th>\n",
       "    </tr>\n",
       "    <tr>\n",
       "      <th>Club</th>\n",
       "      <th>FC Barcelona</th>\n",
       "      <th>Juventus</th>\n",
       "      <th>Manchester United</th>\n",
       "      <th>Real Madrid</th>\n",
       "    </tr>\n",
       "    <tr>\n",
       "      <th>Nationality</th>\n",
       "      <th></th>\n",
       "      <th></th>\n",
       "      <th></th>\n",
       "      <th></th>\n",
       "    </tr>\n",
       "  </thead>\n",
       "  <tbody>\n",
       "    <tr>\n",
       "      <th>Argentina</th>\n",
       "      <td>565000</td>\n",
       "      <td>205000</td>\n",
       "      <td>206000</td>\n",
       "      <td>0</td>\n",
       "    </tr>\n",
       "    <tr>\n",
       "      <th>Belgium</th>\n",
       "      <td>110000</td>\n",
       "      <td>0</td>\n",
       "      <td>230000</td>\n",
       "      <td>240000</td>\n",
       "    </tr>\n",
       "    <tr>\n",
       "      <th>Bosnia Herzegovina</th>\n",
       "      <td>0</td>\n",
       "      <td>180000</td>\n",
       "      <td>0</td>\n",
       "      <td>0</td>\n",
       "    </tr>\n",
       "    <tr>\n",
       "      <th>Brazil</th>\n",
       "      <td>465000</td>\n",
       "      <td>335000</td>\n",
       "      <td>91000</td>\n",
       "      <td>570000</td>\n",
       "    </tr>\n",
       "    <tr>\n",
       "      <th>Chile</th>\n",
       "      <td>205000</td>\n",
       "      <td>0</td>\n",
       "      <td>215000</td>\n",
       "      <td>0</td>\n",
       "    </tr>\n",
       "    <tr>\n",
       "      <th>Costa Rica</th>\n",
       "      <td>0</td>\n",
       "      <td>0</td>\n",
       "      <td>0</td>\n",
       "      <td>195000</td>\n",
       "    </tr>\n",
       "    <tr>\n",
       "      <th>Croatia</th>\n",
       "      <td>260000</td>\n",
       "      <td>160000</td>\n",
       "      <td>0</td>\n",
       "      <td>420000</td>\n",
       "    </tr>\n",
       "    <tr>\n",
       "      <th>Dominican Republic</th>\n",
       "      <td>0</td>\n",
       "      <td>0</td>\n",
       "      <td>0</td>\n",
       "      <td>140000</td>\n",
       "    </tr>\n",
       "    <tr>\n",
       "      <th>Ecuador</th>\n",
       "      <td>0</td>\n",
       "      <td>0</td>\n",
       "      <td>120000</td>\n",
       "      <td>0</td>\n",
       "    </tr>\n",
       "    <tr>\n",
       "      <th>England</th>\n",
       "      <td>0</td>\n",
       "      <td>0</td>\n",
       "      <td>478000</td>\n",
       "      <td>0</td>\n",
       "    </tr>\n",
       "    <tr>\n",
       "      <th>France</th>\n",
       "      <td>495000</td>\n",
       "      <td>145000</td>\n",
       "      <td>375000</td>\n",
       "      <td>459000</td>\n",
       "    </tr>\n",
       "    <tr>\n",
       "      <th>Germany</th>\n",
       "      <td>240000</td>\n",
       "      <td>160000</td>\n",
       "      <td>0</td>\n",
       "      <td>355000</td>\n",
       "    </tr>\n",
       "    <tr>\n",
       "      <th>Italy</th>\n",
       "      <td>0</td>\n",
       "      <td>460000</td>\n",
       "      <td>88000</td>\n",
       "      <td>0</td>\n",
       "    </tr>\n",
       "    <tr>\n",
       "      <th>Ivory Coast</th>\n",
       "      <td>0</td>\n",
       "      <td>0</td>\n",
       "      <td>105000</td>\n",
       "      <td>0</td>\n",
       "    </tr>\n",
       "    <tr>\n",
       "      <th>Morocco</th>\n",
       "      <td>0</td>\n",
       "      <td>160000</td>\n",
       "      <td>0</td>\n",
       "      <td>0</td>\n",
       "    </tr>\n",
       "    <tr>\n",
       "      <th>Netherlands</th>\n",
       "      <td>135000</td>\n",
       "      <td>0</td>\n",
       "      <td>0</td>\n",
       "      <td>0</td>\n",
       "    </tr>\n",
       "    <tr>\n",
       "      <th>Poland</th>\n",
       "      <td>0</td>\n",
       "      <td>125000</td>\n",
       "      <td>0</td>\n",
       "      <td>0</td>\n",
       "    </tr>\n",
       "    <tr>\n",
       "      <th>Portugal</th>\n",
       "      <td>125000</td>\n",
       "      <td>405000</td>\n",
       "      <td>0</td>\n",
       "      <td>0</td>\n",
       "    </tr>\n",
       "    <tr>\n",
       "      <th>Scotland</th>\n",
       "      <td>0</td>\n",
       "      <td>0</td>\n",
       "      <td>11000</td>\n",
       "      <td>0</td>\n",
       "    </tr>\n",
       "    <tr>\n",
       "      <th>Serbia</th>\n",
       "      <td>0</td>\n",
       "      <td>0</td>\n",
       "      <td>165000</td>\n",
       "      <td>0</td>\n",
       "    </tr>\n",
       "    <tr>\n",
       "      <th>Spain</th>\n",
       "      <td>912000</td>\n",
       "      <td>0</td>\n",
       "      <td>260000</td>\n",
       "      <td>1404000</td>\n",
       "    </tr>\n",
       "    <tr>\n",
       "      <th>Uruguay</th>\n",
       "      <td>455000</td>\n",
       "      <td>0</td>\n",
       "      <td>0</td>\n",
       "      <td>0</td>\n",
       "    </tr>\n",
       "    <tr>\n",
       "      <th>Wales</th>\n",
       "      <td>0</td>\n",
       "      <td>0</td>\n",
       "      <td>13000</td>\n",
       "      <td>355000</td>\n",
       "    </tr>\n",
       "  </tbody>\n",
       "</table>\n",
       "</div>"
      ],
      "text/plain": [
       "                           Wage                                       \n",
       "Club               FC Barcelona Juventus Manchester United Real Madrid\n",
       "Nationality                                                           \n",
       "Argentina                565000   205000            206000           0\n",
       "Belgium                  110000        0            230000      240000\n",
       "Bosnia Herzegovina            0   180000                 0           0\n",
       "Brazil                   465000   335000             91000      570000\n",
       "Chile                    205000        0            215000           0\n",
       "Costa Rica                    0        0                 0      195000\n",
       "Croatia                  260000   160000                 0      420000\n",
       "Dominican Republic            0        0                 0      140000\n",
       "Ecuador                       0        0            120000           0\n",
       "England                       0        0            478000           0\n",
       "France                   495000   145000            375000      459000\n",
       "Germany                  240000   160000                 0      355000\n",
       "Italy                         0   460000             88000           0\n",
       "Ivory Coast                   0        0            105000           0\n",
       "Morocco                       0   160000                 0           0\n",
       "Netherlands              135000        0                 0           0\n",
       "Poland                        0   125000                 0           0\n",
       "Portugal                 125000   405000                 0           0\n",
       "Scotland                      0        0             11000           0\n",
       "Serbia                        0        0            165000           0\n",
       "Spain                    912000        0            260000     1404000\n",
       "Uruguay                  455000        0                 0           0\n",
       "Wales                         0        0             13000      355000"
      ]
     },
     "execution_count": 13,
     "metadata": {},
     "output_type": "execute_result"
    }
   ],
   "source": [
    "pivot=df.loc[df['Club'].isin(['FC Barcelona','Real Madrid','Juventus','Manchester United'])].pivot_table(values=['Wage'],\n",
    "             index=['Nationality'],\n",
    "             columns=['Club'],\n",
    "             aggfunc='sum',\n",
    "             fill_value=0)\n",
    "pivot"
   ]
  },
  {
   "cell_type": "code",
   "execution_count": 17,
   "id": "38642d64-e117-46cb-b184-1562e228a1bd",
   "metadata": {},
   "outputs": [
    {
     "name": "stdout",
     "output_type": "stream",
     "text": [
      "650 V-Varen Nagasaki\n"
     ]
    }
   ],
   "source": [
    "count=df.Club.nunique()\n",
    "club=df['Club'].value_counts().index[0]\n",
    "print(count,club)"
   ]
  },
  {
   "cell_type": "code",
   "execution_count": 18,
   "id": "af3fc5b7-62a8-4a95-8fc1-211766a57b57",
   "metadata": {},
   "outputs": [
    {
     "name": "stdout",
     "output_type": "stream",
     "text": [
      "94 1\n"
     ]
    }
   ],
   "source": [
    "acr=df['FKAccuracy'].value_counts()\n",
    "best=acr.index.max()\n",
    "count=acr[best]\n",
    "print(best,count)"
   ]
  },
  {
   "cell_type": "code",
   "execution_count": 19,
   "id": "6ccc2334-186f-417c-94cc-1cc64d0dbfc4",
   "metadata": {},
   "outputs": [
    {
     "name": "stdout",
     "output_type": "stream",
     "text": [
      "97 CAM 2035000\n"
     ]
    },
    {
     "name": "stderr",
     "output_type": "stream",
     "text": [
      "C:\\Users\\Lenovo\\AppData\\Local\\Temp\\ipykernel_19960\\372939200.py:6: FutureWarning: Series.__getitem__ treating keys as positions is deprecated. In a future version, integer keys will always be treated as labels (consistent with DataFrame behavior). To access a value by position, use `ser.iloc[pos]`\n",
      "  Chelsea=Chelsea[0]\n"
     ]
    }
   ],
   "source": [
    "player=df[df.Nationality=='Spain']['Wage'].value_counts(normalize='True',bins=4).sort_index().iloc[0]*100\n",
    "player=round(player)\n",
    "position=df.groupby(['Position'])['Wage'].sum()\n",
    "position=position[position>2000000].index[0]\n",
    "Chelsea=df[df.Club=='Chelsea'].groupby(['Club'])['Wage'].sum()\n",
    "Chelsea=Chelsea[0]\n",
    "print(player,position,Chelsea)"
   ]
  },
  {
   "cell_type": "code",
   "execution_count": 20,
   "id": "07d6580a-a458-4fcc-9410-54b9a6baa5df",
   "metadata": {},
   "outputs": [
    {
     "data": {
      "text/plain": [
       "np.int64(0)"
      ]
     },
     "execution_count": 20,
     "metadata": {},
     "output_type": "execute_result"
    }
   ],
   "source": [
    "n=df['Club'].isnull().sum()\n",
    "n"
   ]
  },
  {
   "cell_type": "code",
   "execution_count": 21,
   "id": "f8d829eb-b2c0-44c0-a4e9-aac1dc0ed446",
   "metadata": {},
   "outputs": [
    {
     "data": {
      "text/plain": [
       "count     12897.000000\n",
       "mean       7517.562224\n",
       "std       23061.985387\n",
       "min        1000.000000\n",
       "25%        1000.000000\n",
       "50%        2000.000000\n",
       "75%        4000.000000\n",
       "max      565000.000000\n",
       "Name: Wage, dtype: float64"
      ]
     },
     "execution_count": 21,
     "metadata": {},
     "output_type": "execute_result"
    }
   ],
   "source": [
    "info=df['Wage'].describe()\n",
    "info"
   ]
  },
  {
   "cell_type": "code",
   "execution_count": 23,
   "id": "58f36179-8fda-44ea-a308-5636772bca03",
   "metadata": {},
   "outputs": [
    {
     "data": {
      "text/plain": [
       "'LW'"
      ]
     },
     "execution_count": 23,
     "metadata": {},
     "output_type": "execute_result"
    }
   ],
   "source": [
    "cash=df[df['Value']==df['Value'].max()]\n",
    "pos=cash['Position'].iloc[0]\n",
    "pos"
   ]
  },
  {
   "cell_type": "code",
   "execution_count": null,
   "id": "31d2fd55-e2e9-4dbc-98e7-4fa59edd4f46",
   "metadata": {},
   "outputs": [],
   "source": []
  }
 ],
 "metadata": {
  "kernelspec": {
   "display_name": "Python 3 (ipykernel)",
   "language": "python",
   "name": "python3"
  },
  "language_info": {
   "codemirror_mode": {
    "name": "ipython",
    "version": 3
   },
   "file_extension": ".py",
   "mimetype": "text/x-python",
   "name": "python",
   "nbconvert_exporter": "python",
   "pygments_lexer": "ipython3",
   "version": "3.13.0"
  }
 },
 "nbformat": 4,
 "nbformat_minor": 5
}
