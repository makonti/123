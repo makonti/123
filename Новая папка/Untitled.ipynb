{
 "cells": [
  {
   "cell_type": "code",
   "execution_count": 1,
   "id": "4ab229f5-0435-43e7-a4eb-1e00ac0c79a7",
   "metadata": {},
   "outputs": [
    {
     "name": "stdout",
     "output_type": "stream",
     "text": [
      "Вы-самый крутой студент"
     ]
    }
   ],
   "source": [
    "string='Вы-самый крутой студент'\n",
    "for letter in string:\n",
    "    print(letter,end= '')"
   ]
  },
  {
   "cell_type": "code",
   "execution_count": null,
   "id": "746bc69b-fd86-4760-980f-3f0b08ce0542",
   "metadata": {},
   "outputs": [],
   "source": []
  }
 ],
 "metadata": {
  "kernelspec": {
   "display_name": "Python 3 (ipykernel)",
   "language": "python",
   "name": "python3"
  },
  "language_info": {
   "codemirror_mode": {
    "name": "ipython",
    "version": 3
   },
   "file_extension": ".py",
   "mimetype": "text/x-python",
   "name": "python",
   "nbconvert_exporter": "python",
   "pygments_lexer": "ipython3",
   "version": "3.13.0"
  }
 },
 "nbformat": 4,
 "nbformat_minor": 5
}
